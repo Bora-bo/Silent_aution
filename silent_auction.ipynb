{
 "cells": [
  {
   "cell_type": "code",
   "execution_count": 1,
   "id": "d9dcc1fb",
   "metadata": {},
   "outputs": [
    {
     "name": "stdout",
     "output_type": "stream",
     "text": [
      "What is you name? \n",
      "Hana\n",
      "What is your bid? \n",
      " $80\n",
      "{'Jubi': 59, 'Hana': 80}\n",
      "Are there any other bidders. Type 'y' for Yes and 'n' for No \n",
      "n\n",
      "The higest bid is 80 and the winner is Hana\n"
     ]
    }
   ],
   "source": [
    "from silenta_art import *\n",
    "from IPython.display import clear_output\n",
    "\n",
    "print(logo)\n",
    "print(\"Welcome to the silent auction.\")\n",
    "\n",
    "bidding = 'start'\n",
    "\n",
    "def highest_bidder(bidding_record):\n",
    "    highest_bid = 0\n",
    "    for winner in bidding_record:\n",
    "        bid_amount = bidding_record[winner]\n",
    "        if bid_amount > highest_bid:\n",
    "            highest_bid = bid_amount\n",
    "    print(f\"The higest bid is {highest_bid} and the winner is {winner}\")\n",
    "                \n",
    "bid_dict = {}\n",
    "\n",
    "while bidding == 'start':\n",
    "    \n",
    "    name = input(\"What is you name? \\n\")\n",
    "    bid = int(input(\"What is your bid? \\n $\"))\n",
    "\n",
    "    bid_dict[name] = bid\n",
    "\n",
    "    print(bid_dict)\n",
    "\n",
    "    another_bidder = input(\"Are there any other bidders. Type 'y' for Yes and 'n' for No \\n\")\n",
    "        \n",
    "    if another_bidder == 'n':\n",
    "        highest_bidder(bid_dict)\n",
    "        bidding = 'end'\n",
    "    else:\n",
    "        clear_output(wait = True)\n",
    "        \n",
    "\n"
   ]
  },
  {
   "cell_type": "code",
   "execution_count": 8,
   "id": "24ef9676",
   "metadata": {},
   "outputs": [
    {
     "name": "stdout",
     "output_type": "stream",
     "text": [
      "\n",
      "                         ___________\n",
      "                         \\         /\n",
      "                          )_______(\n",
      "                          |\"\"\"\"\"\"\"|_.-._,.---------.,_.-._\n",
      "                          |       | | |               | | ''-.\n",
      "                          |       |_| |_             _| |_..-'\n",
      "                          |_______| '-' `'---------'` '-'\n",
      "                          )\"\"\"\"\"\"\"(\n",
      "                         /_________\\\n",
      "                       .-------------.\n",
      "                      /_______________\\\n",
      "\n",
      "Welcome to the silent auction.\n",
      "What is you name? \n",
      "Bu\n",
      "What is your bid? \n",
      " $20\n",
      "{'Bu': 20}\n",
      "Are there any other bidders. Type 'y' for Yes and 'n' for Noy\n",
      "What is you name? \n",
      "Ru\n",
      "What is your bid? \n",
      " $10\n",
      "{'Bu': 20, 'Ru': 10}\n",
      "Are there any other bidders. Type 'y' for Yes and 'n' for Non\n",
      "20\n"
     ]
    }
   ],
   "source": [
    "#method 2 without function\n",
    "from silenta_art import *\n",
    "from IPython.display import clear_output\n",
    "\n",
    "print(logo)\n",
    "print(\"Welcome to the silent auction.\")\n",
    "\n",
    "bidding = 'start'                \n",
    "bid_dict = {}\n",
    "\n",
    "while bidding == 'start':\n",
    "    name = input(\"What is you name? \\n\")\n",
    "    bid = int(input(\"What is your bid? \\n $\"))\n",
    "\n",
    "    bid_dict[name] = bid\n",
    "\n",
    "    print(bid_dict)\n",
    "\n",
    "    another_bidder = input(\"Are there any other bidders. Type 'y' for Yes and 'n' for No\")\n",
    "    if another_bidder == 'n':\n",
    "        \n",
    "        highest_bid = 0\n",
    "        for winner in bid_dict:\n",
    "            bid_amount = bid_dict[winner]\n",
    "            if bid_amount > highest_bid:\n",
    "                highest_bid = bid_amount\n",
    "                print(highest_bid)\n",
    "                bidding = 'end'\n",
    "\n"
   ]
  },
  {
   "cell_type": "code",
   "execution_count": 31,
   "id": "3256240b",
   "metadata": {},
   "outputs": [
    {
     "name": "stdout",
     "output_type": "stream",
     "text": [
      "Hello World!\n"
     ]
    }
   ],
   "source": [
    "from IPython.display import clear_output\n",
    "\n",
    "for i in range(10):\n",
    "    clear_output(wait=True)\n",
    "    print(\"Hello World!\")"
   ]
  }
 ],
 "metadata": {
  "kernelspec": {
   "display_name": "Python 3 (ipykernel)",
   "language": "python",
   "name": "python3"
  },
  "language_info": {
   "codemirror_mode": {
    "name": "ipython",
    "version": 3
   },
   "file_extension": ".py",
   "mimetype": "text/x-python",
   "name": "python",
   "nbconvert_exporter": "python",
   "pygments_lexer": "ipython3",
   "version": "3.9.13"
  }
 },
 "nbformat": 4,
 "nbformat_minor": 5
}
